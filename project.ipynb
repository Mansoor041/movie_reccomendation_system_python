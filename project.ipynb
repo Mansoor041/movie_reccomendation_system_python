{
 "cells": [
  {
   "cell_type": "markdown",
   "metadata": {},
   "source": [
    "# Project Title: Movie Recommendation System Using KNN\n",
    "# Group Members: Mansoor Shakeel (cs172053) | Abdul Samad Vohra (cs162071)\n"
   ]
  },
  {
   "cell_type": "code",
   "execution_count": 16,
   "metadata": {},
   "outputs": [],
   "source": [
    "#importing the required liabraries..\n",
    "\n",
    "import pandas as pd #used to read csv files and display the dataframes.\n",
    "from scipy.sparse import csr_matrix #for creating sparse Matrix.\n",
    "from fuzzywuzzy import process #for efficient searching.\n",
    "from sklearn.neighbors import NearestNeighbors #to get the nearest neighbors.\n"
   ]
  },
  {
   "cell_type": "code",
   "execution_count": 25,
   "metadata": {},
   "outputs": [],
   "source": [
    "# reading csv files to create movies and ratings datasets.\n",
    "# usecols is used to get only required columns from the dataset.\n",
    "# dtypes is used to convert the datatypes of the required columns into the required datatype.\n",
    "\n",
    "movies = pd.read_csv(r'D:\\Movie_recommendation_system\\movies.csv',\n",
    "                     usecols = ['movieId', 'title'],\n",
    "                    dtype={'movieId':'int32','title':'str'})\n",
    "\n",
    "ratings = pd.read_csv(r'D:\\Movie_recommendation_system\\ratings.csv',\n",
    "                      usecols = ['userId', 'movieId', 'rating'],\n",
    "                     dtype={'userId':'int32','movieId':'int32','rating':'float32'})"
   ]
  },
  {
   "cell_type": "code",
   "execution_count": 26,
   "metadata": {},
   "outputs": [
    {
     "name": "stdout",
     "output_type": "stream",
     "text": [
      "   movieId                               title\n",
      "0        1                    Toy Story (1995)\n",
      "1        2                      Jumanji (1995)\n",
      "2        3             Grumpier Old Men (1995)\n",
      "3        4            Waiting to Exhale (1995)\n",
      "4        5  Father of the Bride Part II (1995)\n"
     ]
    }
   ],
   "source": [
    "print(movies.head()) #printing Dataset"
   ]
  },
  {
   "cell_type": "code",
   "execution_count": 27,
   "metadata": {},
   "outputs": [
    {
     "name": "stdout",
     "output_type": "stream",
     "text": [
      "   userId  movieId  rating\n",
      "0       1        1     4.0\n",
      "1       1        3     4.0\n",
      "2       1        6     4.0\n",
      "3       1       47     5.0\n",
      "4       1       50     5.0\n"
     ]
    }
   ],
   "source": [
    "print(ratings.head()) #printing Dataset"
   ]
  },
  {
   "cell_type": "code",
   "execution_count": 21,
   "metadata": {},
   "outputs": [
    {
     "name": "stdout",
     "output_type": "stream",
     "text": [
      "userId   1    2    3    4    5    6    7    8    9    10   ...  601  602  603  \\\n",
      "movieId                                                    ...                  \n",
      "1        4.0  0.0  0.0  0.0  4.0  0.0  4.5  0.0  0.0  0.0  ...  4.0  0.0  4.0   \n",
      "2        0.0  0.0  0.0  0.0  0.0  4.0  0.0  4.0  0.0  0.0  ...  0.0  4.0  0.0   \n",
      "3        4.0  0.0  0.0  0.0  0.0  5.0  0.0  0.0  0.0  0.0  ...  0.0  0.0  0.0   \n",
      "4        0.0  0.0  0.0  0.0  0.0  3.0  0.0  0.0  0.0  0.0  ...  0.0  0.0  0.0   \n",
      "5        0.0  0.0  0.0  0.0  0.0  5.0  0.0  0.0  0.0  0.0  ...  0.0  0.0  0.0   \n",
      "\n",
      "userId   604  605  606  607  608  609  610  \n",
      "movieId                                     \n",
      "1        3.0  4.0  2.5  4.0  2.5  3.0  5.0  \n",
      "2        5.0  3.5  0.0  0.0  2.0  0.0  0.0  \n",
      "3        0.0  0.0  0.0  0.0  2.0  0.0  0.0  \n",
      "4        0.0  0.0  0.0  0.0  0.0  0.0  0.0  \n",
      "5        3.0  0.0  0.0  0.0  0.0  0.0  0.0  \n",
      "\n",
      "[5 rows x 610 columns]\n"
     ]
    }
   ],
   "source": [
    "# using csr_matrix function to convert our pivot table into a sparse matrix, this will eleminate all the values which has zero ra\n",
    "\n",
    "movies_users = ratings.pivot(index = 'movieId',\n",
    "                             columns = 'userId',\n",
    "                             values = 'rating').fillna(0)\n",
    "\n",
    "print(movies_users.head()) #printing Dataset\n",
    "\n",
    "movies_users_matrix = csr_matrix(movies_users.values)\n",
    "\n"
   ]
  },
  {
   "cell_type": "code",
   "execution_count": 28,
   "metadata": {},
   "outputs": [
    {
     "data": {
      "text/plain": [
       "NearestNeighbors(algorithm='brute', metric='cosine', n_neighbors=20)"
      ]
     },
     "execution_count": 28,
     "metadata": {},
     "output_type": "execute_result"
    }
   ],
   "source": [
    "# Applying KNN\n",
    "# Cosine similarity find colinearity\n",
    "# We have used brute force algorithm not auto because we want to iterate each cell in our algorithm.\n",
    "    \n",
    "model = NearestNeighbors(metric = 'cosine',\n",
    "                         algorithm = 'brute',\n",
    "                         n_neighbors = 20)\n",
    "\n",
    "model.fit(movies_users_matrix) #this will fit our model into our sparse matrix "
   ]
  },
  {
   "cell_type": "code",
   "execution_count": 29,
   "metadata": {},
   "outputs": [],
   "source": [
    "#Creating function for searching.\n",
    "\n",
    "def movie_recommender(movie_name):\n",
    "    \n",
    "    idx = process.extractOne(movie_name, movies['title'])[2]\n",
    "    print('Selected Movie: ',movies['title'][idx], 'Index: ',idx)\n",
    "    print('Searching for recommendation.....')\n",
    "    distance, indices = model.kneighbors(movies_users_matrix[idx], n_neighbors = 10)\n",
    "    print(distance, indices)\n",
    "    \n",
    "    for i in indices:\n",
    "        print(movies['title'][i].where(i != idx))\n",
    "\n"
   ]
  },
  {
   "cell_type": "code",
   "execution_count": 30,
   "metadata": {},
   "outputs": [
    {
     "name": "stdout",
     "output_type": "stream",
     "text": [
      "Enter a movie name: batman\n",
      "Selected Movie:  Batman Forever (1995) Index:  126\n",
      "Searching for recommendation.....\n",
      "[[5.3644180e-07 2.9436135e-01 3.5725552e-01 3.7956768e-01 3.9813352e-01\n",
      "  4.1406554e-01 4.2324233e-01 4.2645985e-01 4.3361640e-01 4.3654251e-01]] [[126 509 337 302 378 508 138 275 506 307]]\n",
      "126                                  NaN\n",
      "509                        Batman (1989)\n",
      "337                     True Lies (1994)\n",
      "302    Ace Ventura: Pet Detective (1994)\n",
      "378                   Cliffhanger (1993)\n",
      "508            Dances with Wolves (1990)\n",
      "138    Die Hard: With a Vengeance (1995)\n",
      "275                      Stargate (1994)\n",
      "506                       Aladdin (1992)\n",
      "307      Clear and Present Danger (1994)\n",
      "Name: title, dtype: object\n"
     ]
    }
   ],
   "source": [
    "#using input function to Enter the name of the movie\n",
    "\n",
    "name = input('Enter a movie name: ')\n",
    "\n",
    "movie_recommender(name) #calling function\n"
   ]
  },
  {
   "cell_type": "code",
   "execution_count": null,
   "metadata": {},
   "outputs": [],
   "source": []
  }
 ],
 "metadata": {
  "kernelspec": {
   "display_name": "Python 3",
   "language": "python",
   "name": "python3"
  },
  "language_info": {
   "codemirror_mode": {
    "name": "ipython",
    "version": 3
   },
   "file_extension": ".py",
   "mimetype": "text/x-python",
   "name": "python",
   "nbconvert_exporter": "python",
   "pygments_lexer": "ipython3",
   "version": "3.8.5"
  }
 },
 "nbformat": 4,
 "nbformat_minor": 4
}
